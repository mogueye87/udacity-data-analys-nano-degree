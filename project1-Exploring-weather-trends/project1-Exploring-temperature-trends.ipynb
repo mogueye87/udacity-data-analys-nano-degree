{
 "cells": [
  {
   "cell_type": "markdown",
   "metadata": {},
   "source": [
    "# Project1: Exploring weather trends datasets\n",
    "\n",
    "## Table of contents\n",
    "\n",
    "<ul>\n",
    "    <li><a href=\"#intro\">Introduction</a></li>\n",
    "    <li><a href=\"#dataext\">Weather Data Extraction from database</a></li>\n",
    "    <li><a href=\"#dataexpo\">Weather Data Exploration and Analysis</a></li>\n",
    "    <li><a href=\"#dataviz\">Weather Data Visualization</a></li>\n",
    "    <li><a href=\"#dataobs\">Observations</a></li>\n",
    "    \n",
    "</ul>"
   ]
  },
  {
   "cell_type": "markdown",
   "metadata": {},
   "source": [
    "\n",
    "## Introduction\n",
    "\n",
    "The aim of the project is analyze temperature data locally and globally in order to compare the temperature trends in Paris to the overall global temperature.\n",
    "In order to achieve this task, we will start extracting the data from database and export it into CSV file, for this we will write SQL queries for:\n",
    "* Extraction the city level data and export the extracted data into a CSV file\n",
    "* Extraction the global level data and export the extracted data into a CSV file\n",
    "\n",
    "We will use python to analyze the extracted data and create a line chart in order to compare the temperature trends in Paris with global temperatures. We will finally finish this study, by an observations by trying to answer these questions\n",
    "* Is Paris hotter or cooler on average compared to the global average? Has the difference been consistent over time?\n",
    "* “How do the changes in Paris’s temperatures over time compare to the changes in the global average?”\n",
    "* What does the overall trend look like? Is the world getting hotter or cooler? Has the trend been consistent over the last few hundred years?"
   ]
  },
  {
   "cell_type": "markdown",
   "metadata": {},
   "source": [
    "\n",
    "## Weather data extraction from database\n",
    "\n",
    "In order to explore the weather trends, the temperature data of the nearest city for instance Paris have been extracted from the city_data table filtering where city is equal to Paris thanks to the following query:\n",
    "\n",
    "   `SELECT * FROM CITY_DATA WHERE CITY = 'Paris'`\n",
    "\n",
    "The global temperature data are extracted from the table GLOBAL_DATA using the following SQL request:\n",
    "\n",
    "   `SELECT * FROM GLOBAL_DATA`\n",
    "\n",
    "The extracted data from database for global and local weather data are then exported into a csv file for analysis."
   ]
  },
  {
   "cell_type": "markdown",
   "metadata": {},
   "source": [
    "\n",
    "## Weather data exploration and Analysis\n",
    "\n",
    "For the analysis of the weather data, we will use python pandas library"
   ]
  },
  {
   "cell_type": "code",
   "execution_count": 1,
   "metadata": {
    "scrolled": true
   },
   "outputs": [],
   "source": [
    "# Import packages\n",
    "import numpy as np\n",
    "import pandas as pd\n",
    "import matplotlib.pyplot as plt"
   ]
  },
  {
   "cell_type": "code",
   "execution_count": 13,
   "metadata": {},
   "outputs": [
    {
     "data": {
      "text/html": [
       "<div>\n",
       "<style scoped>\n",
       "    .dataframe tbody tr th:only-of-type {\n",
       "        vertical-align: middle;\n",
       "    }\n",
       "\n",
       "    .dataframe tbody tr th {\n",
       "        vertical-align: top;\n",
       "    }\n",
       "\n",
       "    .dataframe thead th {\n",
       "        text-align: right;\n",
       "    }\n",
       "</style>\n",
       "<table border=\"1\" class=\"dataframe\">\n",
       "  <thead>\n",
       "    <tr style=\"text-align: right;\">\n",
       "      <th></th>\n",
       "      <th>city</th>\n",
       "      <th>country</th>\n",
       "      <th>avg_temp</th>\n",
       "    </tr>\n",
       "    <tr>\n",
       "      <th>year</th>\n",
       "      <th></th>\n",
       "      <th></th>\n",
       "      <th></th>\n",
       "    </tr>\n",
       "  </thead>\n",
       "  <tbody>\n",
       "    <tr>\n",
       "      <th>1743</th>\n",
       "      <td>Paris</td>\n",
       "      <td>France</td>\n",
       "      <td>7.65</td>\n",
       "    </tr>\n",
       "    <tr>\n",
       "      <th>1744</th>\n",
       "      <td>Paris</td>\n",
       "      <td>France</td>\n",
       "      <td>11.48</td>\n",
       "    </tr>\n",
       "    <tr>\n",
       "      <th>1745</th>\n",
       "      <td>Paris</td>\n",
       "      <td>France</td>\n",
       "      <td>4.73</td>\n",
       "    </tr>\n",
       "    <tr>\n",
       "      <th>1746</th>\n",
       "      <td>Paris</td>\n",
       "      <td>France</td>\n",
       "      <td>NaN</td>\n",
       "    </tr>\n",
       "    <tr>\n",
       "      <th>1747</th>\n",
       "      <td>Paris</td>\n",
       "      <td>France</td>\n",
       "      <td>NaN</td>\n",
       "    </tr>\n",
       "  </tbody>\n",
       "</table>\n",
       "</div>"
      ],
      "text/plain": [
       "       city country  avg_temp\n",
       "year                         \n",
       "1743  Paris  France      7.65\n",
       "1744  Paris  France     11.48\n",
       "1745  Paris  France      4.73\n",
       "1746  Paris  France       NaN\n",
       "1747  Paris  France       NaN"
      ]
     },
     "execution_count": 13,
     "metadata": {},
     "output_type": "execute_result"
    }
   ],
   "source": [
    "# Paris temperature dataset\n",
    "paris_data = pd.read_csv(\"paris_data.csv\", index_col=\"year\")\n",
    "\n",
    "# Print the fifth rows of paris_data DataFrame\n",
    "paris_data.head()"
   ]
  },
  {
   "cell_type": "code",
   "execution_count": 12,
   "metadata": {},
   "outputs": [
    {
     "name": "stdout",
     "output_type": "stream",
     "text": [
      "<class 'pandas.core.frame.DataFrame'>\n",
      "Int64Index: 271 entries, 1743 to 2013\n",
      "Data columns (total 3 columns):\n",
      "city        271 non-null object\n",
      "country     271 non-null object\n",
      "avg_temp    267 non-null float64\n",
      "dtypes: float64(1), object(2)\n",
      "memory usage: 8.5+ KB\n"
     ]
    }
   ],
   "source": [
    "# Printing concise summary of the DataFrame \n",
    "paris_data.info()"
   ]
  },
  {
   "cell_type": "code",
   "execution_count": 4,
   "metadata": {},
   "outputs": [
    {
     "data": {
      "text/html": [
       "<div>\n",
       "<style scoped>\n",
       "    .dataframe tbody tr th:only-of-type {\n",
       "        vertical-align: middle;\n",
       "    }\n",
       "\n",
       "    .dataframe tbody tr th {\n",
       "        vertical-align: top;\n",
       "    }\n",
       "\n",
       "    .dataframe thead th {\n",
       "        text-align: right;\n",
       "    }\n",
       "</style>\n",
       "<table border=\"1\" class=\"dataframe\">\n",
       "  <thead>\n",
       "    <tr style=\"text-align: right;\">\n",
       "      <th></th>\n",
       "      <th>avg_temp</th>\n",
       "    </tr>\n",
       "  </thead>\n",
       "  <tbody>\n",
       "    <tr>\n",
       "      <th>count</th>\n",
       "      <td>267.000000</td>\n",
       "    </tr>\n",
       "    <tr>\n",
       "      <th>mean</th>\n",
       "      <td>10.376105</td>\n",
       "    </tr>\n",
       "    <tr>\n",
       "      <th>std</th>\n",
       "      <td>0.799216</td>\n",
       "    </tr>\n",
       "    <tr>\n",
       "      <th>min</th>\n",
       "      <td>4.730000</td>\n",
       "    </tr>\n",
       "    <tr>\n",
       "      <th>25%</th>\n",
       "      <td>9.990000</td>\n",
       "    </tr>\n",
       "    <tr>\n",
       "      <th>50%</th>\n",
       "      <td>10.390000</td>\n",
       "    </tr>\n",
       "    <tr>\n",
       "      <th>75%</th>\n",
       "      <td>10.800000</td>\n",
       "    </tr>\n",
       "    <tr>\n",
       "      <th>max</th>\n",
       "      <td>12.330000</td>\n",
       "    </tr>\n",
       "  </tbody>\n",
       "</table>\n",
       "</div>"
      ],
      "text/plain": [
       "         avg_temp\n",
       "count  267.000000\n",
       "mean    10.376105\n",
       "std      0.799216\n",
       "min      4.730000\n",
       "25%      9.990000\n",
       "50%     10.390000\n",
       "75%     10.800000\n",
       "max     12.330000"
      ]
     },
     "execution_count": 4,
     "metadata": {},
     "output_type": "execute_result"
    }
   ],
   "source": [
    "# Getting predictive statics about the dataset\n",
    "paris_data.describe()"
   ]
  },
  {
   "cell_type": "code",
   "execution_count": 10,
   "metadata": {},
   "outputs": [
    {
     "data": {
      "text/html": [
       "<div>\n",
       "<style scoped>\n",
       "    .dataframe tbody tr th:only-of-type {\n",
       "        vertical-align: middle;\n",
       "    }\n",
       "\n",
       "    .dataframe tbody tr th {\n",
       "        vertical-align: top;\n",
       "    }\n",
       "\n",
       "    .dataframe thead th {\n",
       "        text-align: right;\n",
       "    }\n",
       "</style>\n",
       "<table border=\"1\" class=\"dataframe\">\n",
       "  <thead>\n",
       "    <tr style=\"text-align: right;\">\n",
       "      <th></th>\n",
       "      <th>avg_temp</th>\n",
       "    </tr>\n",
       "    <tr>\n",
       "      <th>year</th>\n",
       "      <th></th>\n",
       "    </tr>\n",
       "  </thead>\n",
       "  <tbody>\n",
       "    <tr>\n",
       "      <th>1750</th>\n",
       "      <td>8.72</td>\n",
       "    </tr>\n",
       "    <tr>\n",
       "      <th>1751</th>\n",
       "      <td>7.98</td>\n",
       "    </tr>\n",
       "    <tr>\n",
       "      <th>1752</th>\n",
       "      <td>5.78</td>\n",
       "    </tr>\n",
       "    <tr>\n",
       "      <th>1753</th>\n",
       "      <td>8.39</td>\n",
       "    </tr>\n",
       "    <tr>\n",
       "      <th>1754</th>\n",
       "      <td>8.47</td>\n",
       "    </tr>\n",
       "  </tbody>\n",
       "</table>\n",
       "</div>"
      ],
      "text/plain": [
       "      avg_temp\n",
       "year          \n",
       "1750      8.72\n",
       "1751      7.98\n",
       "1752      5.78\n",
       "1753      8.39\n",
       "1754      8.47"
      ]
     },
     "execution_count": 10,
     "metadata": {},
     "output_type": "execute_result"
    }
   ],
   "source": [
    "# Printing concise summary of the DataFrame \n",
    "global_data = pd.read_csv(\"global_data.csv\", index_col='year')\n",
    "global_data.head()"
   ]
  },
  {
   "cell_type": "code",
   "execution_count": 11,
   "metadata": {},
   "outputs": [
    {
     "name": "stdout",
     "output_type": "stream",
     "text": [
      "<class 'pandas.core.frame.DataFrame'>\n",
      "Int64Index: 266 entries, 1750 to 2015\n",
      "Data columns (total 1 columns):\n",
      "avg_temp    266 non-null float64\n",
      "dtypes: float64(1)\n",
      "memory usage: 4.2 KB\n"
     ]
    }
   ],
   "source": [
    "# Printing concise summary of the DataFrame\n",
    "global_data.info()"
   ]
  },
  {
   "cell_type": "markdown",
   "metadata": {},
   "source": [
    "\n",
    "## Weather Data Visualization\n",
    "\n",
    "For the comparison of Paris tempartures with the global, we will plot line charts for both data set. However, in order to visualize a more clear trends of data, we will plot their moving average rather the yearly avarage. For the calculation of the moving average of temperature the pandas.rolling method will be used on the avg_temp [pandas.core.window.Rolling.mean](https://pandas.pydata.org/pandas-docs/stable/reference/api/pandas.core.window.Rolling.mean.html)  "
   ]
  },
  {
   "cell_type": "code",
   "execution_count": 33,
   "metadata": {},
   "outputs": [],
   "source": [
    "# Moving average of paris temparature\n",
    "# avg_temp column selection in order to calculate the moving average\n",
    "paris_avg_temp_mean = paris_data[['avg_temp']]\n",
    "avg_temp_mean = paris_avg_temp_mean.rolling(12).mean()"
   ]
  },
  {
   "cell_type": "code",
   "execution_count": 32,
   "metadata": {},
   "outputs": [],
   "source": [
    "# Moving average global temperature \n",
    "# avg_temp column selection in order to calculate the moving average\n",
    "global_avg_temp = global_data[['avg_temp']]\n",
    "global_avg_temp_mean = global_avg_temp.rolling(12).mean()"
   ]
  },
  {
   "cell_type": "code",
   "execution_count": 42,
   "metadata": {},
   "outputs": [
    {
     "data": {
      "text/plain": [
       "(1743, 2013)"
      ]
     },
     "execution_count": 42,
     "metadata": {},
     "output_type": "execute_result"
    },
    {
     "data": {
      "image/png": "[encoded data removed]",
      "text/plain": [
       "<Figure size 1440x720 with 1 Axes>"
      ]
     },
     "metadata": {
      "needs_background": "light"
     },
     "output_type": "display_data"
    }
   ],
   "source": [
    "ax = global_avg_temp_mean.plot(figsize=(20,10), linewidth=5, fontsize=20)\n",
    "avg_temp_mean.plot(ax=ax, figsize=(20,10), linewidth=5, fontsize=20)\n",
    "plt.xlabel('Year', fontsize=20);\n",
    "plt.ylabel('Temperature (°C)', fontsize=20)\n",
    "ax.legend([\"Global weather temperature MA\", \"Paris weather temperature\"])"
   ]
  },
  {
   "cell_type": "markdown",
   "metadata": {},
   "source": [
    "\n",
    "## Observations\n"
   ]
  },
  {
   "cell_type": "code",
   "execution_count": 14,
   "metadata": {},
   "outputs": [
    {
     "name": "stdout",
     "output_type": "stream",
     "text": [
      "10.376104868913858\n"
     ]
    }
   ],
   "source": [
    "# Mean temperature in Paris\n",
    "mean_temp_paris = paris_data['avg_temp'].mean()\n",
    "print(mean_temp_paris)"
   ]
  },
  {
   "cell_type": "code",
   "execution_count": 16,
   "metadata": {},
   "outputs": [
    {
     "name": "stdout",
     "output_type": "stream",
     "text": [
      "8.369473684210526\n"
     ]
    }
   ],
   "source": [
    "# Mean Global temperature \n",
    "mean_temp_global = global_data['avg_temp'].mean()\n",
    "print(mean_temp_global)"
   ]
  },
  {
   "cell_type": "markdown",
   "metadata": {},
   "source": [
    "On Average, the mean temperature in Paris 10.376104868913858,  is hotter  compared to the global 8.369473684210526. This trends seems to be consistent over time. The temperature trends is increasing over time and looks like higher than the global temparature. For instance, in 2010 the average temperature in Paris is over 11.5 while the global temperature turn around 9.0°C.\n",
    "The overall trend of the weather temperature is rising, the global weather is then getting hotter and hotter. For instance, world weather temperature increased approximatively by over 1 °C between 1850 and 2000s. "
   ]
  }
 ],
 "metadata": {
  "kernelspec": {
   "display_name": "Python 3",
   "language": "python",
   "name": "python3"
  },
  "language_info": {
   "codemirror_mode": {
    "name": "ipython",
    "version": 3
   },
   "file_extension": ".py",
   "mimetype": "text/x-python",
   "name": "python",
   "nbconvert_exporter": "python",
   "pygments_lexer": "ipython3",
   "version": "3.7.3"
  }
 },
 "nbformat": 4,
 "nbformat_minor": 2
}
